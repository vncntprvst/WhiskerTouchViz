{
 "cells": [
  {
   "cell_type": "code",
   "execution_count": null,
   "id": "1496143b-64c6-4a27-a5bd-e39afebd18b8",
   "metadata": {},
   "outputs": [],
   "source": [
    "import skunk\n",
    "import numpy as np\n",
    "import os\n",
    "import matplotlib.pyplot as plt\n",
    "\n",
    "fig = plt.figure(figsize=(6, 3))\n",
    "ax = fig.add_axes([0, 0, 1, 1])\n",
    "ax.set_aspect('equal')\n",
    "ax.axis('off')\n",
    "\n",
    "skunk.connect(ax, 'EtoE')\n",
    "\n",
    "svg = skunk.insert(\n",
    "    {\n",
    "        'EtoE': '../graphics/EtoE.svg'\n",
    "    })\n",
    "# Clear the ax axis before inserting the SVG\n",
    "ax.clear()\n",
    "ax.axis('off')\n",
    "skunk.display(svg)\n",
    "# fig.savefig('EtoE.png', dpi=100, bbox_inches='tight')"
   ]
  },
  {
   "cell_type": "code",
   "execution_count": null,
   "id": "ea9687d3-3d17-4220-b264-1aad0ae9f87a",
   "metadata": {},
   "outputs": [],
   "source": [
    "import skunk\n",
    "import numpy as np\n",
    "import os\n",
    "import matplotlib.pyplot as plt\n",
    "\n",
    "fig, axs = plt.subplots(ncols=2)\n",
    "\n",
    "x = np.linspace(0, 2 * np.pi)\n",
    "axs[0].plot(x, np.sin(x))\n",
    "\n",
    "# # important line where we set ID\n",
    "skunk.connect(axs[1], 'sk')\n",
    "\n",
    "plt.tight_layout()\n",
    "\n",
    "# # Overwrite using file path to my svg\n",
    "# # Can also use a string that contains the SVG\n",
    "svg = skunk.insert(\n",
    "    {\n",
    "        'sk': '../graphics/EtoE.svg'\n",
    "    })\n",
    "\n",
    "# # or in jupyter notebook\n",
    "skunk.display(svg)"
   ]
  },
  {
   "cell_type": "code",
   "execution_count": null,
   "id": "01b22bb6-f8f1-414d-85c8-d5fa1a3ccf66",
   "metadata": {},
   "outputs": [],
   "source": [
    "cd ../skunk/tests/"
   ]
  },
  {
   "cell_type": "code",
   "execution_count": null,
   "id": "7817d8bb-e5e8-4d74-934b-8a2e4d4a4f76",
   "metadata": {},
   "outputs": [],
   "source": [
    "import skunk\n",
    "import numpy as np\n",
    "import os\n",
    "import matplotlib.pyplot as plt\n",
    "\n",
    "fig, axs = plt.subplots(ncols=2)\n",
    "\n",
    "x = np.linspace(0, 2 * np.pi)\n",
    "axs[0].plot(x, np.sin(x))\n",
    "\n",
    "# important line where we set ID\n",
    "skunk.connect(axs[1], 'sk')\n",
    "\n",
    "plt.tight_layout()\n",
    "\n",
    "# Overwrite using file path to my svg\n",
    "# Can also use a string that contains the SVG\n",
    "svg = skunk.insert(\n",
    "    {\n",
    "        'sk': 'skunk.svg'\n",
    "    })\n",
    "\n",
    "# write to file\n",
    "with open('replaced.svg', 'w') as f:\n",
    "    f.write(svg)\n",
    "# or in jupyter notebook\n",
    "skunk.display(svg)"
   ]
  },
  {
   "cell_type": "code",
   "execution_count": null,
   "id": "306e709e-aec1-4644-875b-8e0fc2603a03",
   "metadata": {},
   "outputs": [],
   "source": []
  }
 ],
 "metadata": {
  "kernelspec": {
   "display_name": "Python 3 (ipykernel)",
   "language": "python",
   "name": "python3"
  },
  "language_info": {
   "codemirror_mode": {
    "name": "ipython",
    "version": 3
   },
   "file_extension": ".py",
   "mimetype": "text/x-python",
   "name": "python",
   "nbconvert_exporter": "python",
   "pygments_lexer": "ipython3",
   "version": "3.10.10"
  }
 },
 "nbformat": 4,
 "nbformat_minor": 5
}
